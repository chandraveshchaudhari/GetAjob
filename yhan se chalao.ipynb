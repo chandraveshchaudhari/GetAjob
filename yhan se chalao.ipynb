{
 "cells": [
  {
   "cell_type": "markdown",
   "metadata": {},
   "source": [
    "# Get A JOB"
   ]
  },
  {
   "cell_type": "code",
   "execution_count": 4,
   "metadata": {},
   "outputs": [
    {
     "name": "stderr",
     "output_type": "stream",
     "text": [
      "[WDM] - Current google-chrome version is 84.0.4147\n",
      "[WDM] - Get LATEST driver version for 84.0.4147\n"
     ]
    },
    {
     "name": "stdout",
     "output_type": "stream",
     "text": [
      " \n"
     ]
    },
    {
     "name": "stderr",
     "output_type": "stream",
     "text": [
      "[WDM] - Get LATEST driver version for 84.0.4147\n",
      "[WDM] - Trying to download new driver from http://chromedriver.storage.googleapis.com/84.0.4147.30/chromedriver_linux64.zip\n",
      "[WDM] - Driver has been saved in cache [/home/chaudharyubuntu/.wdm/drivers/chromedriver/linux64/84.0.4147.30]\n"
     ]
    },
    {
     "name": "stdout",
     "output_type": "stream",
     "text": [
      "https://www.linkedin.com/\n",
      "<class 'Exception'>\n"
     ]
    }
   ],
   "source": [
    "from lazy_unemployed_want_job.utilities import get_data\n",
    "\n",
    "parameters = get_data()\n",
    "\n",
    "from selenium import webdriver\n",
    "\n",
    "from selenium.webdriver.common.by import By\n",
    "from selenium.webdriver.common.keys import Keys\n",
    "from selenium.webdriver.support.ui import WebDriverWait\n",
    "from selenium.webdriver.support.expected_conditions import presence_of_element_located\n",
    "from webdriver_manager.chrome import ChromeDriverManager\n",
    "\n",
    "from selenium.webdriver.support.ui import WebDriverWait\n",
    "\n",
    "driver = webdriver.Chrome(ChromeDriverManager().install())\n",
    "from selenium.webdriver.support import expected_conditions as EC\n",
    "\n",
    "from selenium.webdriver.chrome.options import Options\n",
    "import re\n",
    "\n",
    "\n",
    "def browser_options():\n",
    "    options = Options()\n",
    "    options.add_argument(\"--start-maximized\")\n",
    "    options.add_argument(\"--ignore-certificate-errors\")\n",
    "    options.add_argument('--no-sandbox')\n",
    "    options.add_argument(\"--disable-extensions\")\n",
    "\n",
    "    # Disable webdriver flags or you will be easily detectable\n",
    "    options.add_argument(\"--disable-blink-features\")\n",
    "    options.add_argument(\"--disable-blink-features=AutomationControlled\")\n",
    "    return options\n",
    "\n",
    "\n",
    "browser_options()\n",
    "\n",
    "\n",
    "def start_linkedin(url, username, password):\n",
    "    print(url)\n",
    "    driver.get(url)\n",
    "    try:\n",
    "        \n",
    "        user_field = driver.find_element(By.NAME, \"Email or phone number\")\n",
    "        pw_field = driver.find_element(By.NAME, \"Password\")\n",
    "        login_button = driver.find_element_by_css_selector(\".btn__primary--large\")\n",
    "        user_field.send_keys(username)\n",
    "        user_field.send_keys(Keys.TAB)\n",
    "        time.sleep(1)\n",
    "        pw_field.send_keys(password)\n",
    "        time.sleep(1)\n",
    "        login_button.click()\n",
    "    except Exception:\n",
    "        print(Exception)\n",
    "\n",
    "\n",
    "start_linkedin(parameters['LinkedIn']['url'], parameters['LinkedIn']['username'], parameters['LinkedIn']['password'])\n"
   ]
  },
  {
   "cell_type": "code",
   "execution_count": 5,
   "metadata": {},
   "outputs": [],
   "source": [
    "try:\n",
    "    user_field = driver.find_element(By.NAME, \"session_key\")\n",
    "    user_field.send_keys(parameters['LinkedIn']['username'])\n",
    "except Exception:\n",
    "    print(Exception)"
   ]
  },
  {
   "cell_type": "code",
   "execution_count": 6,
   "metadata": {},
   "outputs": [],
   "source": [
    "try:\n",
    "    user_field = driver.find_element(By.NAME, \"session_password\")\n",
    "    user_field.send_keys(parameters['LinkedIn']['password'])\n",
    "except Exception:\n",
    "    print(Exception)"
   ]
  },
  {
   "cell_type": "code",
   "execution_count": 7,
   "metadata": {},
   "outputs": [],
   "source": [
    "try:\n",
    "    login_button = driver.find_element(By.XPATH, \"//button[@class='sign-in-form__submit-button' and @type='submit']\")\n",
    "    login_button.click()\n",
    "except Exception:\n",
    "    print(Exception)"
   ]
  },
  {
   "cell_type": "markdown",
   "metadata": {},
   "source": [
    "### click on jobs button"
   ]
  },
  {
   "cell_type": "code",
   "execution_count": 778,
   "metadata": {},
   "outputs": [],
   "source": [
    "driver.get(\"https://www.linkedin.com/jobs/\")"
   ]
  },
  {
   "cell_type": "code",
   "execution_count": null,
   "metadata": {},
   "outputs": [],
   "source": [
    "jobSource = driver.page_source\n",
    "soup = BeautifulSoup(jobSource, 'html.parser')\n",
    "sourcehtml= print(soup)"
   ]
  },
  {
   "cell_type": "code",
   "execution_count": 83,
   "metadata": {},
   "outputs": [],
   "source": []
  },
  {
   "cell_type": "code",
   "execution_count": 94,
   "metadata": {},
   "outputs": [],
   "source": []
  },
  {
   "cell_type": "code",
   "execution_count": 125,
   "metadata": {},
   "outputs": [
    {
     "data": {
      "text/plain": [
       "'\\n            Search by title, skill, or company\\n          '"
      ]
     },
     "execution_count": 125,
     "metadata": {},
     "output_type": "execute_result"
    }
   ],
   "source": [
    "import re\n",
    "text= soup.find(string=re.compile(\"Search by\"))\n",
    "text"
   ]
  },
  {
   "cell_type": "code",
   "execution_count": 137,
   "metadata": {},
   "outputs": [
    {
     "name": "stdout",
     "output_type": "stream",
     "text": [
      "<bound method PageElement.find_parents of '\\n            Search by title, skill, or company\\n          '>\n"
     ]
    }
   ],
   "source": [
    "print(text.fetchParents )"
   ]
  },
  {
   "cell_type": "code",
   "execution_count": 143,
   "metadata": {},
   "outputs": [],
   "source": [
    "text= soup.findAll(text=re.compile(\"Search by\"))"
   ]
  },
  {
   "cell_type": "code",
   "execution_count": 297,
   "metadata": {},
   "outputs": [],
   "source": [
    "yhan = str(soup)"
   ]
  },
  {
   "cell_type": "code",
   "execution_count": 184,
   "metadata": {},
   "outputs": [
    {
     "data": {
      "text/plain": [
       "307337"
      ]
     },
     "execution_count": 184,
     "metadata": {},
     "output_type": "execute_result"
    }
   ],
   "source": [
    "string.find(\"Search by\")"
   ]
  },
  {
   "cell_type": "code",
   "execution_count": 15,
   "metadata": {},
   "outputs": [],
   "source": [
    "import re"
   ]
  },
  {
   "cell_type": "code",
   "execution_count": 368,
   "metadata": {},
   "outputs": [],
   "source": [
    "pattern = r'<.+Search.+>'"
   ]
  },
  {
   "cell_type": "code",
   "execution_count": 357,
   "metadata": {},
   "outputs": [],
   "source": [
    "wordSeenInWebsite = \"Search\""
   ]
  },
  {
   "cell_type": "code",
   "execution_count": 375,
   "metadata": {},
   "outputs": [],
   "source": [
    "pattern = \"<.+\"+str(wordSeenInWebsite)+\".+>\""
   ]
  },
  {
   "cell_type": "code",
   "execution_count": 376,
   "metadata": {},
   "outputs": [
    {
     "name": "stdout",
     "output_type": "stream",
     "text": [
      "<class 'str'>\n"
     ]
    }
   ],
   "source": [
    "print(type(pattern))"
   ]
  },
  {
   "cell_type": "code",
   "execution_count": 377,
   "metadata": {},
   "outputs": [
    {
     "name": "stdout",
     "output_type": "stream",
     "text": [
      "<.+Search.+>\n"
     ]
    }
   ],
   "source": [
    "print(pattern)"
   ]
  },
  {
   "cell_type": "code",
   "execution_count": 378,
   "metadata": {},
   "outputs": [],
   "source": [
    "text = re.findall(pattern, jobSource)"
   ]
  },
  {
   "cell_type": "code",
   "execution_count": 379,
   "metadata": {},
   "outputs": [
    {
     "name": "stdout",
     "output_type": "stream",
     "text": [
      "['<div id=\"ember49\" class=\"ember-view\" aria-label=\"Search by title, skill, or company\"><input id=\"jobs-search-box-keyword-id-ember44\" class=\"jobs-search-box__text-input\" autocomplete=\"chrome-off\" spellcheck=\"false\" role=\"combobox\" aria-autocomplete=\"list\" aria-activedescendant=\"\" aria-expanded=\"false\" aria-owns=\"\" type=\"text\"></div>', '<input class=\"jobs-search-box__text-input jobs-search-box__ghost-text-input\" placeholder=\"Search by title, skill, or company\" title=\"Search by title, skill, or company\" aria-label=\"Search by title, skill, or company\" aria-hidden=\"true\" disabled=\"\" aria-required=\"false\" type=\"text\">']\n"
     ]
    }
   ],
   "source": [
    "print(text)"
   ]
  },
  {
   "cell_type": "markdown",
   "metadata": {},
   "source": [
    "## functions"
   ]
  },
  {
   "cell_type": "code",
   "execution_count": 116,
   "metadata": {},
   "outputs": [],
   "source": [
    "def get_current_webpage(driver=driver):\n",
    "    '''\n",
    "    Args:\n",
    "        driver: selenium driver for browser automation\n",
    "    Returns:    \n",
    "        htmlSourceCode: complete html of page\n",
    "    '''\n",
    "    htmlSourceCode = driver.page_source\n",
    "    return htmlSourceCode"
   ]
  },
  {
   "cell_type": "code",
   "execution_count": 117,
   "metadata": {},
   "outputs": [],
   "source": [
    "currentWebpage= get_current_webpage()"
   ]
  },
  {
   "cell_type": "code",
   "execution_count": 118,
   "metadata": {},
   "outputs": [],
   "source": [
    "def snippet_html(wordSeenInWebsite:str, htmlText:str) -> str:\n",
    "    '''\n",
    "    Args:\n",
    "        wordSeenInWebsite: word that you see in input box on website\n",
    "        htmlText: complete html of page\n",
    "    Returns:\n",
    "        snippetHtmlText: snippet of Html which has your element Name\n",
    "    '''\n",
    "    wordSeenInWebsite=str(wordSeenInWebsite)\n",
    "    regex = \"<.+\"+wordSeenInWebsite+\".+>\"\n",
    "    snippetHtmlText = re.findall(regex, htmlText)\n",
    "    snippetHtmlText = str(snippetHtmlText)\n",
    "    return snippetHtmlText"
   ]
  },
  {
   "cell_type": "code",
   "execution_count": 119,
   "metadata": {},
   "outputs": [
    {
     "name": "stdout",
     "output_type": "stream",
     "text": [
      "['<li class=\"col-sm-3 tertiary-item\" role=\"none\"><a href=\"/us-en/careers/jobsearch\" aria-label=\"Search and Apply\" data-linkcomponentname=\"secondary nav\" role=\"menuitem\" data-cell=\"A1\" data-analytics-link-name=\"search and apply\" data-analytics-content-type=\"nav/paginate\">Search and Apply</a></li>', '<a href=\"https://www.accenture.com/us-en/careers/explore-careers/areas-of-interest/areas-expertise?experienceB\" aria-label=\"Search Jobs by Areas of Expertise\" data-linkcomponentname=\"secondary nav\" data-analytics-link-name=\"Search Jobs by Areas of Expertise\" data-analytics-content-type=\"nav/paginate\" style=\"text-transform: none;\">Search Jobs by Areas of Expertise</a></div>', '<a class=\"ion-ios-search serp\" href=\"/us-en/search/results\" aria-label=\"Search accenture.com\"></a>', '</path></g></svg></div><h3 class=\"pc-back-button-text\" id=\"vendors-list-title\" data-analytics-link-name=\"advertising cookies\" data-analytics-content-type=\"cta\">Advertising Cookies</h3></a></div><div class=\"action-container\"><div id=\"search-container\"><input id=\"vendor-search-handler\" aria-label=\"Vendor Search\" type=\"text\" placeholder=\"Search...\" name=\"vendor-search-handler\"> <svg width=\"30\" height=\"30\" xmlns=\"http://www.w3.org/2000/svg\" xmlns:xlink=\"http://www.w3.org/1999/xlink\" x=\"0px\" y=\"0px\" viewBox=\"0 -30 110 110\">']\n"
     ]
    }
   ],
   "source": [
    "snippetHtmlText= snippet_html('Search', currentWebpage)\n",
    "print(snippetHtmlText)"
   ]
  },
  {
   "cell_type": "code",
   "execution_count": 120,
   "metadata": {},
   "outputs": [],
   "source": [
    "def element_name_value(elementName:str, snippetHtmlText:str):\n",
    "    '''\n",
    "    Args:\n",
    "        snippetHtmlText: snippet of Html which has your element Name\n",
    "        elementName: ID, Name, Class etc. of html element\n",
    "    Returns:\n",
    "        elementNameAndValue: string of element name and it's value\n",
    "    '''\n",
    "    elementName= elementName.lower()\n",
    "    regex = str(elementName)+'=\"[\\w-]+\"'\n",
    "    elementNameAndValue = re.findall(regex, snippetHtmlText)\n",
    "    \n",
    "    return elementNameAndValue"
   ]
  },
  {
   "cell_type": "code",
   "execution_count": 121,
   "metadata": {},
   "outputs": [
    {
     "name": "stdout",
     "output_type": "stream",
     "text": [
      "['id=\"vendors-list-title\"', 'id=\"search-container\"', 'id=\"vendor-search-handler\"']\n"
     ]
    }
   ],
   "source": [
    "elementNameValue = element_name_value('id', snippetHtmlText)\n",
    "print(elementNameValue)"
   ]
  },
  {
   "cell_type": "code",
   "execution_count": 122,
   "metadata": {},
   "outputs": [],
   "source": [
    "def element_value(elementNameValue):\n",
    "    '''\n",
    "    Args:\n",
    "        elementNameValue: element name and element value ex: id=\"ember51\"\n",
    "    Returns:\n",
    "        elementValue: get element value ex: ember51\n",
    "    '''\n",
    "    regex = '\"[\\w-]+\"'\n",
    "    elementValue = re.findall(regex, elementNameValue)\n",
    "    elementValue = str(elementValue)\n",
    "    regex1 = '[\\w-]+'\n",
    "    elementValue = re.findall(regex1, elementValue)\n",
    "    \n",
    "    return elementValue"
   ]
  },
  {
   "cell_type": "code",
   "execution_count": 123,
   "metadata": {},
   "outputs": [
    {
     "data": {
      "text/plain": [
       "['vendors-list-title', 'search-container', 'vendor-search-handler']"
      ]
     },
     "execution_count": 123,
     "metadata": {},
     "output_type": "execute_result"
    }
   ],
   "source": [
    "element_value(str(elementNameValue))"
   ]
  },
  {
   "cell_type": "code",
   "execution_count": 124,
   "metadata": {},
   "outputs": [],
   "source": [
    "def element_value_from_html(wordSeenInWebsite: str, htmlText: str, elementName:str) -> list:\n",
    "    '''\n",
    "    Args:\n",
    "        wordSeenInWebsite: word that you see in input box on website\n",
    "        htmlText: complete html of page\n",
    "        elementName: ID, Name, Class etc. of html element\n",
    "    Returns:\n",
    "        elementValue: get element value ex: ember51   \n",
    "    '''\n",
    "    snipperHtmlText = snippet_html(wordSeenInWebsite, htmlText)\n",
    "    elementNameValue = element_name_value(elementName, snipperHtmlText)\n",
    "    elementValue = element_value(str(elementNameValue))\n",
    "    assert type(elementValue) is list\n",
    "    \n",
    "    return elementValue"
   ]
  },
  {
   "cell_type": "code",
   "execution_count": 125,
   "metadata": {},
   "outputs": [
    {
     "name": "stdout",
     "output_type": "stream",
     "text": [
      "['vendors-list-title', 'search-container', 'vendor-search-handler']\n"
     ]
    }
   ],
   "source": [
    "hel= element_value_from_html('Search', currentWebpage, 'id')\n",
    "print(hel)"
   ]
  },
  {
   "cell_type": "markdown",
   "metadata": {},
   "source": [
    "### fill Input"
   ]
  },
  {
   "cell_type": "code",
   "execution_count": 126,
   "metadata": {},
   "outputs": [],
   "source": [
    "def fill_input_on_webpage(wordSeenInWebsite: str, htmlText: str, elementName:str, inputAnswer:str):\n",
    "    '''\n",
    "    Description: this function fill the inputbox on webpage with the help of wordSeenInWebsite,\n",
    "    with the inputAnswer.\n",
    "    Args:\n",
    "        wordSeenInWebsite: word that you see in input box on website\n",
    "        htmlText: complete html of page\n",
    "        elementName: ID, Name, Class etc. of html element\n",
    "        inputAnswer: answer that you want to put in the inputbox of webpage\n",
    "    '''\n",
    "    elementValue = element_value_from_html(wordSeenInWebsite, htmlText, elementName)\n",
    "    for value in elementValue:\n",
    "        try:\n",
    "            print(value)\n",
    "            print(type(value))\n",
    "            inputBox = driver.find_element(By.ID, str(value))\n",
    "            inputBox.send_keys(inputAnswer)\n",
    "            print(\"executed\")\n",
    "        except Exception:\n",
    "            print('passing')\n",
    "            pass"
   ]
  },
  {
   "cell_type": "code",
   "execution_count": 791,
   "metadata": {},
   "outputs": [
    {
     "name": "stdout",
     "output_type": "stream",
     "text": [
      "ember49\n",
      "<class 'str'>\n",
      "passing\n",
      "jobs-search-box-keyword-id-ember44\n",
      "<class 'str'>\n",
      "executed\n"
     ]
    }
   ],
   "source": [
    "fill_input_on_webpage('Search by',currentWebpage, 'id', 'Data analyst')"
   ]
  },
  {
   "cell_type": "code",
   "execution_count": 794,
   "metadata": {},
   "outputs": [
    {
     "name": "stdout",
     "output_type": "stream",
     "text": [
      "ember51\n",
      "<class 'str'>\n",
      "passing\n",
      "jobs-search-box-location-id-ember44\n",
      "<class 'str'>\n",
      "executed\n"
     ]
    }
   ],
   "source": [
    "fill_input_on_webpage('City',currentWebpage, 'id', 'Bangalore')"
   ]
  },
  {
   "cell_type": "markdown",
   "metadata": {},
   "source": [
    "### Button"
   ]
  },
  {
   "cell_type": "code",
   "execution_count": 76,
   "metadata": {},
   "outputs": [
    {
     "name": "stdout",
     "output_type": "stream",
     "text": [
      "<selenium.webdriver.remote.webelement.WebElement (session=\"130258f072a7e8e1e4a2c7f40596692f\", element=\"823d3251-dee9-42aa-a508-bbe8154f9673\")>\n"
     ]
    },
    {
     "ename": "TypeError",
     "evalue": "'WebElement' object is not iterable",
     "output_type": "error",
     "traceback": [
      "\u001b[0;31m---------------------------------------------------------------------------\u001b[0m",
      "\u001b[0;31mTypeError\u001b[0m                                 Traceback (most recent call last)",
      "\u001b[0;32m<ipython-input-76-18bac5c8694d>\u001b[0m in \u001b[0;36m<module>\u001b[0;34m\u001b[0m\n\u001b[1;32m      3\u001b[0m \u001b[0mallButtons\u001b[0m \u001b[0;34m=\u001b[0m \u001b[0mdriver\u001b[0m\u001b[0;34m.\u001b[0m\u001b[0mfind_element\u001b[0m\u001b[0;34m(\u001b[0m\u001b[0mBy\u001b[0m\u001b[0;34m.\u001b[0m\u001b[0mTAG_NAME\u001b[0m\u001b[0;34m,\u001b[0m\u001b[0;34m\"button\"\u001b[0m\u001b[0;34m)\u001b[0m\u001b[0;34m;\u001b[0m\u001b[0;34m\u001b[0m\u001b[0;34m\u001b[0m\u001b[0m\n\u001b[1;32m      4\u001b[0m \u001b[0mprint\u001b[0m\u001b[0;34m(\u001b[0m\u001b[0mallButtons\u001b[0m\u001b[0;34m)\u001b[0m\u001b[0;34m\u001b[0m\u001b[0;34m\u001b[0m\u001b[0m\n\u001b[0;32m----> 5\u001b[0;31m \u001b[0;32mfor\u001b[0m \u001b[0mi\u001b[0m \u001b[0;32min\u001b[0m \u001b[0mallButtons\u001b[0m\u001b[0;34m:\u001b[0m\u001b[0;34m\u001b[0m\u001b[0;34m\u001b[0m\u001b[0m\n\u001b[0m\u001b[1;32m      6\u001b[0m     \u001b[0mprint\u001b[0m\u001b[0;34m(\u001b[0m\u001b[0mi\u001b[0m\u001b[0;34m.\u001b[0m\u001b[0mtext\u001b[0m\u001b[0;34m(\u001b[0m\u001b[0;34m)\u001b[0m\u001b[0;34m)\u001b[0m\u001b[0;34m\u001b[0m\u001b[0;34m\u001b[0m\u001b[0m\n",
      "\u001b[0;31mTypeError\u001b[0m: 'WebElement' object is not iterable"
     ]
    }
   ],
   "source": [
    "#//*[@id=\"ember44\"]/div[2]/button\n",
    "buttonText = \"Search\";\n",
    "allButtons = driver.find_element(By.TAG_NAME,\"button\");\n",
    "print(allButtons)\n",
    "for i in allButtons:\n",
    "    print(i.text())"
   ]
  },
  {
   "cell_type": "code",
   "execution_count": 795,
   "metadata": {},
   "outputs": [],
   "source": [
    "try:\n",
    "    button = driver.find_element(By.XPATH, \"//button[@class='jobs-search-box__submit-button artdeco-button artdeco-button--3 jobs-home-soho__mvp-button']\")\n",
    "    button.click()\n",
    "except Exception:\n",
    "    print(Exception)"
   ]
  },
  {
   "cell_type": "code",
   "execution_count": 762,
   "metadata": {},
   "outputs": [
    {
     "name": "stdout",
     "output_type": "stream",
     "text": [
      "['<button class=\"jobs-search-box__typeahead-suggestion t-16\" tabindex=\"-1\" type=\"button\">\\n                          Greater Bengaluru Area\\n                        </button>', '<button class=\"jobs-search-box__submit-button artdeco-button artdeco-button--3 jobs-home-soho__mvp-button\" type=\"submit\" data-ember-action=\"\" data-ember-action-52=\"52\">\\n      Search\\n    </button>']\n"
     ]
    }
   ],
   "source": [
    "regex='<button class[-\"=\\w\\s]+>[\\s\\w\\n]+</button>'\n",
    "elementValue = re.findall(regex, currentWebpage)\n",
    "print(elementValue)"
   ]
  },
  {
   "cell_type": "code",
   "execution_count": null,
   "metadata": {},
   "outputs": [],
   "source": [
    "regex='<button class[-\"=\\w\\s]+>[\\s\\w\\n]+</button>'\n",
    "elementValue = re.findall(regex, currentWebpage)\n",
    "print(elementValue)"
   ]
  },
  {
   "cell_type": "code",
   "execution_count": null,
   "metadata": {},
   "outputs": [],
   "source": []
  },
  {
   "cell_type": "code",
   "execution_count": 8,
   "metadata": {},
   "outputs": [],
   "source": [
    "site= \"https://www.linkedin.com/jobs/view/2255898307/?eBP=CwEAAAF1jXh7J0jKb40ZlwzL7d821z61GfMT9zOkO0d8QTJDOZQhBRuwkzsweOHYCf2dUfa4yWsap-wiFkpqoP-wseuMD4E8BxK-5CONxW4UDnjpS5d4lG8hjgY_OMLLrRT943wC-L15RFlTVJvODzROW4_YMuDptrb-8JxZl1JFdesnYfNAwdIfV2ljZZtmhjjrh3achtW479mIHlk_7XzKvqjv5kz7KbL3PXSordbuVCG-RW4pg3sZC7jJ-3zrLLsX2wVCmw_FxbGaGUeKQnPolS7Y_pyAebK_iysEpYoN_UNYDGWSpOj1ocxaYNPRlJv8dGiorSnoB2IHM3FXWxcOG_f40vDFpCAGPBM&recommendedFlavor=SCHOOL_RECRUIT&refId=JZ19UrUBTkRJHdL1ZcSRNQ%3D%3D&trackingId=NZHZZF2QMEkIdmc4mGTk6Q%3D%3D&trk=flagship3_search_srp_jobs\""
   ]
  },
  {
   "cell_type": "code",
   "execution_count": 9,
   "metadata": {},
   "outputs": [],
   "source": [
    "driver.get(site)"
   ]
  },
  {
   "cell_type": "code",
   "execution_count": 77,
   "metadata": {},
   "outputs": [],
   "source": [
    "currentWebpage= get_current_webpage()"
   ]
  },
  {
   "cell_type": "code",
   "execution_count": 69,
   "metadata": {},
   "outputs": [],
   "source": [
    "file1 = open(\"myfile.txt\",\"w\")\n",
    "file1.write(str(currentWebpage))\n",
    "file1.close()"
   ]
  },
  {
   "cell_type": "code",
   "execution_count": 78,
   "metadata": {},
   "outputs": [],
   "source": [
    "elements = driver.find_elements(By.TAG_NAME, 'button')"
   ]
  },
  {
   "cell_type": "code",
   "execution_count": 82,
   "metadata": {},
   "outputs": [
    {
     "name": "stdout",
     "output_type": "stream",
     "text": [
      "\n",
      "\n",
      "\n",
      "\n",
      "Me\n",
      "Work\n",
      "Share\n",
      "Show more options\n",
      "Apply\n",
      "<selenium.webdriver.remote.webelement.WebElement (session=\"130258f072a7e8e1e4a2c7f40596692f\", element=\"1cfce9c1-e1c9-4e1f-9155-8875a18a7c81\")>\n",
      "Save\n",
      "Save Analyst-Data Visualization at Accenture in India\n",
      "\n",
      "\n",
      "\n",
      "\n",
      "\n",
      "Set alert for similar jobs\n",
      "\n",
      "Messaging\n",
      "You are on the messaging overlay. Press enter to minimize it.\n",
      "Compose message\n",
      "\n",
      "You are on the messaging overlay. Press enter to minimize it.\n",
      "\n"
     ]
    }
   ],
   "source": [
    "for e in elements:\n",
    "    print(e.text)\n",
    "    if e.text == 'Apply':\n",
    "        print(e)\n",
    "        e.click()"
   ]
  },
  {
   "cell_type": "code",
   "execution_count": 91,
   "metadata": {},
   "outputs": [],
   "source": [
    "# Setup wait for later\n",
    "wait = WebDriverWait(driver, 10)\n",
    "\n",
    "    # Store the ID of the original window\n",
    "original_window = driver.current_window_handle\n",
    "\n",
    "    # Check we don't have other windows open already\n",
    "assert len(driver.window_handles) == 1"
   ]
  },
  {
   "cell_type": "code",
   "execution_count": 92,
   "metadata": {},
   "outputs": [],
   "source": [
    "elements = driver.find_elements(By.TAG_NAME, 'button')"
   ]
  },
  {
   "cell_type": "code",
   "execution_count": 94,
   "metadata": {},
   "outputs": [
    {
     "name": "stdout",
     "output_type": "stream",
     "text": [
      "\n",
      "\n",
      "\n",
      "\n",
      "Me\n",
      "Work\n",
      "Undo\n",
      "Share\n",
      "Show more options\n",
      "Apply\n",
      "<selenium.webdriver.remote.webelement.WebElement (session=\"130258f072a7e8e1e4a2c7f40596692f\", element=\"c3ffe601-130e-4304-b1b8-2ddf1ecc04e6\")>\n",
      "Save\n",
      "Save Analyst-Data Visualization at Accenture in India\n",
      "See more\n",
      "Yes\n",
      "No\n",
      "Follow\n",
      "show more\n",
      "Set alert for similar jobs\n",
      "Privacy & Terms\n",
      "Messaging\n",
      "You are on the messaging overlay. Press enter to minimize it.\n",
      "Compose message\n",
      "\n",
      "You are on the messaging overlay. Press enter to minimize it.\n",
      "\n"
     ]
    }
   ],
   "source": [
    "for e in elements:\n",
    "    print(e.text)\n",
    "    if e.text == 'Apply':\n",
    "        print(e)\n",
    "        e.click()"
   ]
  },
  {
   "cell_type": "code",
   "execution_count": 96,
   "metadata": {},
   "outputs": [],
   "source": [
    "\n",
    "# Wait for the new window or tab\n",
    "wait.until(EC.number_of_windows_to_be(2))\n",
    "\n",
    "    # Loop through until we find a new window handle\n",
    "for window_handle in driver.window_handles:\n",
    "    if window_handle != original_window:\n",
    "        driver.switch_to.window(window_handle)\n",
    "        break"
   ]
  },
  {
   "cell_type": "code",
   "execution_count": null,
   "metadata": {},
   "outputs": [],
   "source": []
  },
  {
   "cell_type": "code",
   "execution_count": null,
   "metadata": {},
   "outputs": [],
   "source": []
  },
  {
   "cell_type": "code",
   "execution_count": null,
   "metadata": {},
   "outputs": [],
   "source": []
  },
  {
   "cell_type": "code",
   "execution_count": null,
   "metadata": {},
   "outputs": [],
   "source": []
  },
  {
   "cell_type": "code",
   "execution_count": null,
   "metadata": {},
   "outputs": [],
   "source": []
  },
  {
   "cell_type": "code",
   "execution_count": null,
   "metadata": {},
   "outputs": [],
   "source": []
  },
  {
   "cell_type": "code",
   "execution_count": null,
   "metadata": {},
   "outputs": [],
   "source": [
    "<button class[-\"=\\w\\s]+>[-\"=\\w\\s<>]+</button>"
   ]
  },
  {
   "cell_type": "code",
   "execution_count": 65,
   "metadata": {},
   "outputs": [],
   "source": [
    "def all_buttons(currentWebpage):\n",
    "    '''\n",
    "    provide list of buttons info by matching regex in currentWebpage\n",
    "    Args:\n",
    "        currentWebpage: use get_current_webpage\n",
    "    Returns:\n",
    "        buttonList: list of button element\n",
    "    '''\n",
    "    regex='<button[-\"=\\w\\s]+>{1}[-\"=\\w\\s<>:/.]+/button>'\n",
    "    buttonList = re.findall(regex, currentWebpage, re.MULTILINE)\n",
    "    return buttonList"
   ]
  },
  {
   "cell_type": "code",
   "execution_count": null,
   "metadata": {},
   "outputs": [],
   "source": [
    "all_buttons(currentWebpage)"
   ]
  },
  {
   "cell_type": "code",
   "execution_count": null,
   "metadata": {},
   "outputs": [],
   "source": [
    "//button[@title='Save and Continue Edit']\n",
    "//span[contains(text(), 'Save and Continue Edit')]\n",
    "//button[contains(text(),'Text in your webpage')]\n",
    "//button[text()='Some text']"
   ]
  },
  {
   "cell_type": "code",
   "execution_count": 729,
   "metadata": {},
   "outputs": [
    {
     "name": "stdout",
     "output_type": "stream",
     "text": [
      "[]\n"
     ]
    }
   ],
   "source": [
    "Xpath=//*[contains(@class, ‘sign-up-input)]"
   ]
  },
  {
   "cell_type": "code",
   "execution_count": 725,
   "metadata": {},
   "outputs": [],
   "source": [
    "def click_on_button(wordSeenInWebsite: str, htmlText: str, elementName:str):\n",
    "    '''\n",
    "    Description: this function click on button on webpage with the help of wordSeenInWebsite,\n",
    "    with the inputAnswer.\n",
    "    Args:\n",
    "        wordSeenInWebsite: word that you see in input box on website\n",
    "        htmlText: complete html of page\n",
    "        elementName: ID, Name, Class etc. of html element\n",
    "    '''\n",
    "    \n",
    "    for value in elementValue:\n",
    "        try:\n",
    "            button = driver.find_element(By.XPATH, str(value))\n",
    "            button.click()\n",
    "            print(\"executed\")\n",
    "        except Exception:\n",
    "            print(Exception)\n",
    "            print('passing')\n",
    "            pass\n",
    "    "
   ]
  },
  {
   "cell_type": "markdown",
   "metadata": {},
   "source": [
    "#### use cursor"
   ]
  },
  {
   "cell_type": "code",
   "execution_count": 800,
   "metadata": {},
   "outputs": [],
   "source": [
    "import pyautogui"
   ]
  },
  {
   "cell_type": "code",
   "execution_count": 803,
   "metadata": {},
   "outputs": [],
   "source": [
    "def avoid_lock():\n",
    "    x, _ = pyautogui.position()\n",
    "    pyautogui.moveTo(x + 200, pyautogui.position().y, duration=1.0)\n",
    "    pyautogui.moveTo(x, pyautogui.position().y, duration=0.5)\n",
    "    pyautogui.keyDown('ctrl')\n",
    "    pyautogui.press('esc')\n",
    "    pyautogui.keyUp('ctrl')\n",
    "    pyautogui.press('esc')"
   ]
  },
  {
   "cell_type": "code",
   "execution_count": 804,
   "metadata": {},
   "outputs": [],
   "source": [
    "avoid_lock()"
   ]
  },
  {
   "cell_type": "markdown",
   "metadata": {},
   "source": [
    "## Job ID"
   ]
  },
  {
   "cell_type": "code",
   "execution_count": null,
   "metadata": {},
   "outputs": [],
   "source": []
  },
  {
   "cell_type": "code",
   "execution_count": 72,
   "metadata": {},
   "outputs": [
    {
     "name": "stdout",
     "output_type": "stream",
     "text": [
      "[]\n"
     ]
    }
   ],
   "source": [
    "links = driver.find_elements_by_xpath('//div[@data-job-id]')\n",
    "print(links)"
   ]
  },
  {
   "cell_type": "code",
   "execution_count": 71,
   "metadata": {},
   "outputs": [
    {
     "name": "stdout",
     "output_type": "stream",
     "text": [
      "[]\n",
      "[]\n",
      "[]\n",
      "[]\n",
      "[]\n",
      "[]\n",
      "[]\n",
      "[]\n",
      "[]\n",
      "[]\n",
      "[]\n",
      "[]\n",
      "[]\n",
      "[]\n",
      "[]\n",
      "[]\n",
      "[]\n",
      "[]\n",
      "[]\n",
      "[]\n",
      "[]\n",
      "[]\n"
     ]
    }
   ],
   "source": [
    "for link in links:    \n",
    "    children = link.find_elements_by_xpath('.//a[@data-control-id]')\n",
    "    print(children)\n",
    "    for child in children:\n",
    "        temp = link.get_attribute(\"data-job-id\")\n",
    "        temp1 = child.get_attribute(\"href\")\n",
    "        print(temp1)\n",
    "        print(temp)"
   ]
  },
  {
   "cell_type": "markdown",
   "metadata": {},
   "source": [
    "## testing"
   ]
  },
  {
   "cell_type": "code",
   "execution_count": 99,
   "metadata": {},
   "outputs": [],
   "source": [
    "button= driver.find_element_by_xpath('//*[@id=\"job-listing-hero\"]/div[1]/div/div[1]/article/div[4]/a')"
   ]
  },
  {
   "cell_type": "code",
   "execution_count": 100,
   "metadata": {},
   "outputs": [],
   "source": [
    "button.click()"
   ]
  },
  {
   "cell_type": "code",
   "execution_count": 135,
   "metadata": {},
   "outputs": [
    {
     "name": "stderr",
     "output_type": "stream",
     "text": [
      "[WDM] - Current google-chrome version is 84.0.4147\n",
      "[WDM] - Get LATEST driver version for 84.0.4147\n"
     ]
    },
    {
     "name": "stdout",
     "output_type": "stream",
     "text": [
      " \n"
     ]
    },
    {
     "name": "stderr",
     "output_type": "stream",
     "text": [
      "[WDM] - Get LATEST driver version for 84.0.4147\n",
      "[WDM] - Trying to download new driver from http://chromedriver.storage.googleapis.com/84.0.4147.30/chromedriver_linux64.zip\n",
      "[WDM] - Driver has been saved in cache [/home/chaudharyubuntu/.wdm/drivers/chromedriver/linux64/84.0.4147.30]\n"
     ]
    }
   ],
   "source": [
    "driver = webdriver.Chrome(ChromeDriverManager().install())"
   ]
  },
  {
   "cell_type": "code",
   "execution_count": 137,
   "metadata": {},
   "outputs": [],
   "source": [
    "driver.get('https://www.google.com')"
   ]
  },
  {
   "cell_type": "code",
   "execution_count": null,
   "metadata": {},
   "outputs": [],
   "source": [
    "button= driver.find_element_by_xpath('')"
   ]
  },
  {
   "cell_type": "code",
   "execution_count": 104,
   "metadata": {},
   "outputs": [],
   "source": [
    "button.click()"
   ]
  },
  {
   "cell_type": "code",
   "execution_count": 112,
   "metadata": {},
   "outputs": [],
   "source": [
    "elements = driver.find_elements(By.TAG_NAME, 'input')"
   ]
  },
  {
   "cell_type": "code",
   "execution_count": null,
   "metadata": {},
   "outputs": [],
   "source": [
    "for e in elements:\n",
    "    print(e.text)\n",
    "    "
   ]
  },
  {
   "cell_type": "code",
   "execution_count": 130,
   "metadata": {},
   "outputs": [
    {
     "ename": "NameError",
     "evalue": "name 'button_locator' is not defined",
     "output_type": "error",
     "traceback": [
      "\u001b[0;31m---------------------------------------------------------------------------\u001b[0m",
      "\u001b[0;31mNameError\u001b[0m                                 Traceback (most recent call last)",
      "\u001b[0;32m<ipython-input-130-aff2598c74e2>\u001b[0m in \u001b[0;36m<module>\u001b[0;34m\u001b[0m\n\u001b[0;32m----> 1\u001b[0;31m \u001b[0mcheck\u001b[0m\u001b[0;34m=\u001b[0m \u001b[0mdriver\u001b[0m\u001b[0;34m.\u001b[0m\u001b[0mfind_elements\u001b[0m\u001b[0;34m(\u001b[0m\u001b[0mbutton_locator\u001b[0m\u001b[0;34m[\u001b[0m\u001b[0;36m0\u001b[0m\u001b[0;34m]\u001b[0m\u001b[0;34m,\u001b[0m\u001b[0mbutton_locator\u001b[0m\u001b[0;34m[\u001b[0m\u001b[0;36m1\u001b[0m\u001b[0;34m]\u001b[0m\u001b[0;34m)\u001b[0m\u001b[0;34m\u001b[0m\u001b[0;34m\u001b[0m\u001b[0m\n\u001b[0m",
      "\u001b[0;31mNameError\u001b[0m: name 'button_locator' is not defined"
     ]
    }
   ],
   "source": [
    "check= driver.find_elements(button_locator[0],button_locator[1])"
   ]
  },
  {
   "cell_type": "markdown",
   "metadata": {},
   "source": [
    "## Random wait time"
   ]
  },
  {
   "cell_type": "code",
   "execution_count": null,
   "metadata": {},
   "outputs": [],
   "source": [
    "randoTime = random.uniform(3.5, 4.9)\n",
    "\t\t\tlog.debug(f\"Sleeping for {round(randoTime, 1)}\")\n",
    "\t\t\ttime.sleep(randoTime)"
   ]
  },
  {
   "cell_type": "markdown",
   "metadata": {},
   "source": [
    "### scroll pages"
   ]
  },
  {
   "cell_type": "code",
   "execution_count": null,
   "metadata": {},
   "outputs": [],
   "source": [
    "def load_page(self, sleep=1):\n",
    "    scroll_page = 0\n",
    "\t\twhile scroll_page < 4000:\n",
    "\t\t\tself.browser.execute_script(\"window.scrollTo(0,\"+str(scroll_page)+\" );\")\n",
    "\t\t\tscroll_page += 200\n",
    "\t\t\ttime.sleep(sleep)\n",
    "\n",
    "\t\tif sleep != 1:\n",
    "\t\t\tself.browser.execute_script(\"window.scrollTo(0,0);\")\n",
    "\t\t\ttime.sleep(sleep * 3)\n",
    "\n",
    "\t\tpage = BeautifulSoup(self.browser.page_source, \"lxml\")\n",
    "\t\treturn page"
   ]
  },
  {
   "cell_type": "code",
   "execution_count": null,
   "metadata": {},
   "outputs": [],
   "source": []
  },
  {
   "cell_type": "code",
   "execution_count": null,
   "metadata": {},
   "outputs": [],
   "source": [
    "# sleep every 20 applications\n",
    "\t\t\t\tif count_application != 0  and count_application % 20 == 0:\n",
    "\t\t\t\t\tsleepTime = random.randint(500, 900)\n",
    "\t\t\t\t\tlog.info(f\"\"\"********count_application: {count_application}************\\n\\n\n",
    "\t\t\t\t\t\t\t\tTime for a nap - see you in:{int(sleepTime/60)} min\n",
    "\t\t\t\t\t\t\t****************************************\\n\\n\"\"\")\n",
    "\t\t\t\t\ttime.sleep(sleepTime)\n",
    "\n",
    "# go to new page if all jobs are done\n",
    "\t\t\t\tif count_job == len(jobIDs):\n",
    "\t\t\t\t\tjobs_per_page = jobs_per_page + 25\n",
    "\t\t\t\t\tcount_job = 0\n",
    "\t\t\t\t\tlog.info(\"\"\"****************************************\\n\\n\n",
    "\t\t\t\t\tGoing to next jobs page, YEAAAHHH!!\n",
    "\t\t\t\t\t****************************************\\n\\n\"\"\")\n",
    "\t\t\t\t\tself.avoid_lock()"
   ]
  },
  {
   "cell_type": "code",
   "execution_count": null,
   "metadata": {},
   "outputs": [],
   "source": [
    "# remove already applied jobs"
   ]
  },
  {
   "cell_type": "code",
   "execution_count": 139,
   "metadata": {},
   "outputs": [
    {
     "data": {
      "text/plain": [
       "'CDwindow-9F57C678BAB3ACF5FE7346E017A5C000'"
      ]
     },
     "execution_count": 139,
     "metadata": {},
     "output_type": "execute_result"
    }
   ],
   "source": [
    "driver.current_window_handle"
   ]
  },
  {
   "cell_type": "code",
   "execution_count": 140,
   "metadata": {},
   "outputs": [
    {
     "data": {
      "text/plain": [
       "['CDwindow-9F57C678BAB3ACF5FE7346E017A5C000']"
      ]
     },
     "execution_count": 140,
     "metadata": {},
     "output_type": "execute_result"
    }
   ],
   "source": [
    "driver.window_handles"
   ]
  },
  {
   "cell_type": "markdown",
   "metadata": {},
   "source": [
    "## Outputting the name if it have age = 30\n",
    "### normal funtional programming"
   ]
  },
  {
   "cell_type": "code",
   "execution_count": 133,
   "metadata": {},
   "outputs": [],
   "source": [
    "dictNameAge = dict()"
   ]
  },
  {
   "cell_type": "code",
   "execution_count": 86,
   "metadata": {},
   "outputs": [],
   "source": [
    "def person_attributes():\n",
    "    # validation\n",
    "    name = input(\"please give your name:\")\n",
    "    age = input(\"please provide your age\")\n",
    "    name = [str(name)]\n",
    "    add_values_in_dict(dictNameAge, age, name)"
   ]
  },
  {
   "cell_type": "code",
   "execution_count": 87,
   "metadata": {},
   "outputs": [],
   "source": [
    "# Append multiple value to a key in dictionary\n",
    "def add_values_in_dict(sample_dict, key, list_of_values):\n",
    "    \"\"\"Append multiple values to a key in the given dictionary\"\"\"\n",
    "    if key not in sample_dict:\n",
    "        sample_dict[key] = list()\n",
    "    sample_dict[key].extend(list_of_values)\n",
    "    return sample_dict"
   ]
  },
  {
   "cell_type": "code",
   "execution_count": 88,
   "metadata": {},
   "outputs": [],
   "source": [
    "def get_value_from_dict(specificKey, dictionary):\n",
    "    for key, value in dictionary.items():\n",
    "        if key == specificKey:\n",
    "            print(dictionary[specificKey])\n",
    "        else:\n",
    "            pass"
   ]
  },
  {
   "cell_type": "code",
   "execution_count": 91,
   "metadata": {},
   "outputs": [],
   "source": [
    "def takes_input_return_values():\n",
    "    for iteration in range(5):\n",
    "        person_attributes()\n",
    "    get_value_from_dict(\"30\", dictNameAge)\n",
    "\n",
    "        "
   ]
  },
  {
   "cell_type": "code",
   "execution_count": 92,
   "metadata": {},
   "outputs": [
    {
     "name": "stdin",
     "output_type": "stream",
     "text": [
      "please give your name: chandra\n",
      "please provide your age 30\n",
      "please give your name: dazy\n",
      "please provide your age 35\n",
      "please give your name: pintu\n",
      "please provide your age 30\n",
      "please give your name: gullu\n",
      "please provide your age 45\n",
      "please give your name: hyder\n",
      "please provide your age 30\n"
     ]
    },
    {
     "name": "stdout",
     "output_type": "stream",
     "text": [
      "['chandra', 'pintu', 'hyder']\n"
     ]
    }
   ],
   "source": [
    "takes_input_return_values()"
   ]
  },
  {
   "cell_type": "markdown",
   "metadata": {},
   "source": [
    "## Object oriented: classes and Object"
   ]
  },
  {
   "cell_type": "code",
   "execution_count": 129,
   "metadata": {},
   "outputs": [],
   "source": [
    "class Person:\n",
    "    dictPerson = {}\n",
    "\n",
    "    def ask(self):\n",
    "    # validation\n",
    "        for iteration in range(5):\n",
    "            name = input(\"please give your name:\")\n",
    "            age = input(\"please provide your age\")\n",
    "            name = [str(name)]\n",
    "            if age not in self.dictPerson:\n",
    "                self.dictPerson[age] = list()\n",
    "            self.dictPerson[age].extend(name)\n",
    "    \n",
    "    def get_value(self):\n",
    "        for key, value in self.dictPerson.items():\n",
    "            if key == \"30\":\n",
    "                print(self.dictPerson[\"30\"])\n",
    "            else:\n",
    "                pass"
   ]
  },
  {
   "cell_type": "code",
   "execution_count": 130,
   "metadata": {},
   "outputs": [],
   "source": [
    "ram = Person()"
   ]
  },
  {
   "cell_type": "code",
   "execution_count": 131,
   "metadata": {},
   "outputs": [
    {
     "name": "stdin",
     "output_type": "stream",
     "text": [
      "please give your name: hahahah\n",
      "please provide your age 45\n",
      "please give your name: dfsdfsdf\n",
      "please provide your age 45\n",
      "please give your name: ghjggj\n",
      "please provide your age 45\n",
      "please give your name: jgdfhfj\n",
      "please provide your age 45\n",
      "please give your name: hffyujh\n",
      "please provide your age 30\n"
     ]
    }
   ],
   "source": [
    "ram.ask()"
   ]
  },
  {
   "cell_type": "code",
   "execution_count": 132,
   "metadata": {},
   "outputs": [
    {
     "name": "stdout",
     "output_type": "stream",
     "text": [
      "['hffyujh']\n"
     ]
    }
   ],
   "source": [
    "ram.get_value()"
   ]
  },
  {
   "cell_type": "markdown",
   "metadata": {},
   "source": [
    "person : first name and age\n",
    "    print()"
   ]
  },
  {
   "cell_type": "code",
   "execution_count": 136,
   "metadata": {},
   "outputs": [],
   "source": [
    "class Person:\n",
    "    def __init__(self,firstName, age):\n",
    "        self.firstName = firstName\n",
    "        self.age = age\n",
    "    def print_name_age(self):\n",
    "        print(self.firstName, self.age)"
   ]
  },
  {
   "cell_type": "code",
   "execution_count": 170,
   "metadata": {},
   "outputs": [],
   "source": [
    "fullInfo=list()"
   ]
  },
  {
   "cell_type": "code",
   "execution_count": 152,
   "metadata": {},
   "outputs": [],
   "source": [
    "def print_name_age():\n",
    "    firstName =\"nagendra\"\n",
    "    lastName = \"mohan\"\n",
    "    age = 55\n",
    "    print(firstName,lastName, age)\n",
    "    fullInfo.append([firstName,lastName,age])"
   ]
  },
  {
   "cell_type": "code",
   "execution_count": 153,
   "metadata": {},
   "outputs": [
    {
     "name": "stdout",
     "output_type": "stream",
     "text": [
      "nagendra mohan 55\n"
     ]
    }
   ],
   "source": [
    "print_name_age()"
   ]
  },
  {
   "cell_type": "code",
   "execution_count": 154,
   "metadata": {},
   "outputs": [],
   "source": [
    "def print_name_age_runtime(firstName, lastName, age):\n",
    "    print(firstName, lastName, age)\n",
    "    fullInfo.append([firstName,lastName,age])"
   ]
  },
  {
   "cell_type": "code",
   "execution_count": 155,
   "metadata": {},
   "outputs": [
    {
     "name": "stdout",
     "output_type": "stream",
     "text": [
      "nagendra mohan 55\n"
     ]
    }
   ],
   "source": [
    "print_name_age_runtime(\"nagendra\", \"mohan\", \"55\")"
   ]
  },
  {
   "cell_type": "code",
   "execution_count": 156,
   "metadata": {},
   "outputs": [
    {
     "data": {
      "text/plain": [
       "[['nagendra', 'mohan', 55], ['nagendra', 'mohan', '55']]"
      ]
     },
     "execution_count": 156,
     "metadata": {},
     "output_type": "execute_result"
    }
   ],
   "source": [
    "fullInfo"
   ]
  },
  {
   "cell_type": "code",
   "execution_count": 159,
   "metadata": {},
   "outputs": [],
   "source": [
    "index = 0"
   ]
  },
  {
   "cell_type": "code",
   "execution_count": 160,
   "metadata": {},
   "outputs": [
    {
     "name": "stdout",
     "output_type": "stream",
     "text": [
      "Full Name:nagendra,mohan Age: 55\n"
     ]
    }
   ],
   "source": [
    "print(f\"Full Name:{fullInfo[index][0]},{fullInfo[index][1]} Age: {fullInfo[index][2]}\")"
   ]
  },
  {
   "cell_type": "code",
   "execution_count": 163,
   "metadata": {},
   "outputs": [],
   "source": [
    "def print_name_age_runtime_religion(firstName, lastName, age, religion):\n",
    "    print(firstName, lastName, age, religion)\n",
    "    fullInfo.append([firstName,lastName,age,religion])"
   ]
  },
  {
   "cell_type": "code",
   "execution_count": 165,
   "metadata": {},
   "outputs": [
    {
     "name": "stdout",
     "output_type": "stream",
     "text": [
      "nagendra mohan 55 hindu\n"
     ]
    }
   ],
   "source": [
    "print_name_age_runtime_religion(\"nagendra\", \"mohan\", \"55\", \"hindu\")"
   ]
  },
  {
   "cell_type": "code",
   "execution_count": 166,
   "metadata": {},
   "outputs": [
    {
     "name": "stdout",
     "output_type": "stream",
     "text": [
      "Full Name:nagendra,mohan Age: 55, Religion: hindu\n"
     ]
    }
   ],
   "source": [
    "print(f\"Full Name:{fullInfo[index][0]},{fullInfo[index][1]} Age: {fullInfo[index][2]}, Religion: {fullInfo[index][3]}\")"
   ]
  },
  {
   "cell_type": "code",
   "execution_count": 183,
   "metadata": {},
   "outputs": [],
   "source": [
    "class Person:\n",
    "    \n",
    "    def __init__(self, firstName, lastName, age):\n",
    "        self.firstName = firstName\n",
    "        self.lastName = lastName\n",
    "        self.age = age\n",
    "    \n",
    "    def print_info(self):\n",
    "        print(self.firstName, self.lastName)"
   ]
  },
  {
   "cell_type": "code",
   "execution_count": 184,
   "metadata": {},
   "outputs": [
    {
     "data": {
      "text/plain": [
       "<__main__.Person at 0x7fa303f485d0>"
      ]
     },
     "execution_count": 184,
     "metadata": {},
     "output_type": "execute_result"
    }
   ],
   "source": [
    "Person(\"nagendra\", \"mohan\", \"55\")"
   ]
  },
  {
   "cell_type": "code",
   "execution_count": null,
   "metadata": {},
   "outputs": [],
   "source": []
  },
  {
   "cell_type": "code",
   "execution_count": 189,
   "metadata": {},
   "outputs": [],
   "source": [
    "allPersonList = list()\n",
    "def print_name_age_runtime(firstName, lastName, age):\n",
    "    personObject = Person(firstName,lastName, age)\n",
    "    allPersonList.append(personObject)"
   ]
  },
  {
   "cell_type": "code",
   "execution_count": 190,
   "metadata": {},
   "outputs": [],
   "source": [
    "print_name_age_runtime(\"prashant\", \"kumar\", \"98\")"
   ]
  },
  {
   "cell_type": "code",
   "execution_count": 193,
   "metadata": {},
   "outputs": [],
   "source": [
    "print_name_age_runtime(\"nagendra\", \"chau\", \"102\")"
   ]
  },
  {
   "cell_type": "code",
   "execution_count": 194,
   "metadata": {},
   "outputs": [
    {
     "name": "stdout",
     "output_type": "stream",
     "text": [
      "prashant kumar\n",
      "nagendra chau\n"
     ]
    }
   ],
   "source": [
    "for object in allPersonList:\n",
    "    object.print_info()"
   ]
  },
  {
   "cell_type": "code",
   "execution_count": 195,
   "metadata": {},
   "outputs": [],
   "source": [
    "personObject = Person(\"chandra\",\"sonu\", 20)"
   ]
  },
  {
   "cell_type": "code",
   "execution_count": 196,
   "metadata": {},
   "outputs": [
    {
     "data": {
      "text/plain": [
       "'chandra'"
      ]
     },
     "execution_count": 196,
     "metadata": {},
     "output_type": "execute_result"
    }
   ],
   "source": [
    "personObject.firstName"
   ]
  },
  {
   "cell_type": "code",
   "execution_count": null,
   "metadata": {},
   "outputs": [],
   "source": []
  }
 ],
 "metadata": {
  "kernelspec": {
   "display_name": "Python 3",
   "language": "python",
   "name": "python3"
  },
  "language_info": {
   "codemirror_mode": {
    "name": "ipython",
    "version": 3
   },
   "file_extension": ".py",
   "mimetype": "text/x-python",
   "name": "python",
   "nbconvert_exporter": "python",
   "pygments_lexer": "ipython3",
   "version": "3.7.9"
  }
 },
 "nbformat": 4,
 "nbformat_minor": 4
}
